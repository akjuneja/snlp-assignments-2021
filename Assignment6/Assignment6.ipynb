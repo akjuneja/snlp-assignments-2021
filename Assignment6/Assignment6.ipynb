{
  "cells": [
    {
      "cell_type": "markdown",
      "metadata": {
        "id": "Yi9e8HHYbq7T"
      },
      "source": [
        "## Exercise 1: MLE & MAP  (3 points)\n",
        "\n",
        "Here is a nice [article](http://pages.cs.wisc.edu/~jerryzhu/cs838/LM.pdf) that explains the difference between MLE and MAP based estimation for language models. \n",
        "\n",
        "**1.1 (1 point)**\n",
        "\n",
        "* Is a MAP estimator always better than MLE? Why is MAP preferred over MLE (explain in context of language modelling)? (0.5 points)\n",
        "\n",
        "* Some smoothing methods use a MAP estimation of the model parameters. One of these is floor discounting, as described on Slide 44 in Chapter 5. <br/>\n",
        "Write the formula for deriving the MAP estimate and the resultant formula for floor discounting. What underlying distribution does the language model assume? What is assumed as the prior? (0.5 pts)\n",
        "\n",
        "**1.2 (2 points)**\n",
        "\n",
        "Consider the sentences\n",
        "\n",
        "`s1 = They don't know that we know they know!`\n",
        "\n",
        "`s2 = Don't we know that?`\n",
        "\n",
        "* Assume punctuation removal and lowercasing as basic preprocessing steps. Formulate a bigram model (use a circular corpus) on `s1`, note down the conditional probabilities, and use them to determine the probability of `s2`. (0.5 pt)\n",
        "* Now use floor discounting and form similar bigram models with $\\epsilon=1$ and $\\epsilon=0.5$, note down the respective bigram probabilities, and use them to determine the probability of `s2`. (1 pt) \n",
        "* What do you observe? How does the value of $\\epsilon$ influence the MAP prior in both cases? (0.5 pts)"
      ]
    },
    {
      "cell_type": "markdown",
      "metadata": {
        "id": "Lgx2R8A2YC4v"
      },
      "source": [
        "## Exercise 1: MLE & MAP  (Answers)\n",
        "\n",
        "\n",
        "**1.1**\n",
        "\n",
        "- No, MAP is not always better than MLE. If we have sufficient amount of Data and the Prior is Uniformly Distributed, then MLE and MAP will converge to the same value. But if we have a very small Data, then applying MAP is better as we can use the prior knowledge for estimating the Maximum. If we are more interested in the Future Data and not the Corpus we trained on, then using MLE is better. Which will give higher probability to the type of text we are interested in, but not seen in the training corpus.\n",
        "MAP is prefered over MLE as when using MLE, if a word type $w$ is existing in the Vocabulary but not in the corpus then MLE is $\\theta_w = 0$, then any new sentnece with $w$ will have zero Probability. However using MAP for such situations will avoid this problem, as the Hyperparamters that act as \"pseudo Counts\" ($\\alpha_w - 1$) which are the counts of word $w$ before refering to the Corpus which makes $\\alpha_w$ less than one but not one, hence not tending to 0.\n",
        "\n",
        "* \n",
        "To determine the MAP estimation <br/>$\\theta_{w}^{MAP} = \\frac{c_w + \\alpha_w - 1}{|C| + \\sum_{i=1}^V (\\alpha_i - 1)}$\n",
        "<br/> where <br/>$c_w$ is count of word $w$ in the corpus <br/>$|C| = \\sum_{w=1}^V c_w$ <br/> $\\alpha_w - 1$ is the hyperparameters (pseudo counts), count of the word $w$ collected before seeing the corpus <br/> $\\sum_{i=1}^V (\\alpha_i - 1)$ is the summation of all pseudo count of all the words in the Vocabulary. \n",
        "\n",
        "To determine the Floor Discounting we take the hyperparameters $\\alpha_w - 1$ as $\\epsilon$ (determines amount of smoothing) and rewriting the MAP estimation<br/>$\\theta_{w}^{MAP} = \\frac{c_w + \\epsilon}{|C| + \\sum_{i=1}^V (\\epsilon)} = \\frac{c_w + \\epsilon}{|C| + \\epsilon * \\sum_{i=1}^V (1)} = \\frac{c_w + \\epsilon}{|C| + \\epsilon * V}$; as $\\epsilon$ is a constant we can take it out of the summation\n",
        "\n",
        "$P(w|h) = \\frac{c_w + \\epsilon}{|C| + \\epsilon * V}$ for unigram\n",
        "$P(w|h) = \\frac{c_(w,h) + \\epsilon}{c_h + \\epsilon * V}$ for bigram\n",
        "\n",
        "Floor Discounting is the same as the add-$\\epsilon$ smoothing. The LM assumes a multinomial distribution. Prior is the prior knowledge we have from our training Corpus.\n",
        "\n",
        "**1.2**\n",
        "\n",
        "`s1 = They don't know that we know they know!`\n",
        "\n",
        "`s2 = Don't we know that?`\n",
        "\n",
        "- Preprocessing\n",
        "    - Removal of Punctuations: `s1 = They dont know that we know they know` `s2 = Dont we know that`\n",
        "    - Lowercasing: `s1 = they dont know that we know they know` `s2 = dont we know that`\n",
        "- Formulating bigram model for $s1$: [(they, dont), (dont, know), (know, that), (that, we), (we, know), (know, they), (they, know), (know, they)]\n",
        "\n",
        "Conditional Probability: \n",
        "$P(word_i|word_{i-1})$ = $\\frac{C(word_{i-1}|word_i)}{C(word_{i-1})}$ \n",
        "\n",
        "C(they) = 2; C(dont) = 1; C(know) = 3; C(that) = 1; C(we) = 1; \n",
        "\n",
        "\n",
        "<br/>$P(we|dont) = \\frac{P(dont|we)}{P(dont)} = \\frac{0}{1} = 0$ as is $s1$ dont is never followed after we.\n",
        "<br/>$P(know|we) = \\frac{P(we|know)}{P(we)} = \\frac{1}{1}$\n",
        "<br/>$P(that|know) = \\frac{P(know|that)}{P(know)} = \\frac{1}{3}$\n",
        "<br/>$P(dont|that) = \\frac{P(that|dont)}{P(that)} = \\frac{0}{1}$\n",
        "<br/>The Total Probability to determine s2 = $0 * 1 * \\frac{1}{3} * 0 = 0$\n",
        "\n",
        "- Floor Discounting <br/> $P(w|h) = \\frac{c_(w,h) + \\epsilon}{c_h + \\epsilon * V}$ \n",
        "\n",
        "1. $\\epsilon=1$ \n",
        "    <br/>$P(w|h) = \\frac{c_(w,h) + 1}{c_h + 5}$ \n",
        "    <br/>$P(we|dont) = \\frac{c(we,dont) + 1}{c(dont) + 5} = \\frac{0 + 1}{1 + 5} = \\frac{1}{6}$ \n",
        "    <br/>$P(know|we) = \\frac{c(know,we) + 1}{c(we) + 5} = \\frac{1 + 1}{1 + 5} = \\frac{2}{6}$  \n",
        "    <br/>$P(that|know) = \\frac{c(that,know) + 1}{c(know) + 5} = \\frac{1 + 1}{3 + 5} = \\frac{2}{8}$\n",
        "    <br/>$P(dont|that) = \\frac{c(dont,that) + 1}{c(that) + 5} = \\frac{0 + 1}{1 + 5} = \\frac{1}{6}$    \n",
        "    <br/>The Total Probability to determine s2 = $\\frac{1}{6} * \\frac{2}{6} * \\frac{2}{8} * \\frac{1}{6} = \\frac{1}{432}$\n",
        "\n",
        "2. $\\epsilon=0.5$\n",
        "    <br/>$P(w|h) = \\frac{c_(w,h) + 0.5}{c_h + 0.5 * 5}$ \n",
        "    <br/>$P(we|dont) = \\frac{c(we,dont) + 0.5}{c(dont) + 0.5 * V} = \\frac{0 + 0.5}{1 + 2.5} = \\frac{1}{7}$ \n",
        "    <br/>$P(know|we) = \\frac{c(know,we) + 0.5}{c(we) + 0.5 * V} = \\frac{1 + 0.5}{1 + 2.5} = \\frac{3}{7}$  \n",
        "    <br/>$P(that|know) = \\frac{c(that,know) + 0.5}{c(know) + 0.5 * V} = \\frac{1 + 0.5}{3 + 2.5} = \\frac{3}{11}$\n",
        "    <br/>$P(that|know) = \\frac{c(dont,that) + 0.5}{c(that) + 0.5 * V} = \\frac{0 + 0.5}{1 + 2.5} = \\frac{1}{7}$  \n",
        "    <br/>The Total Probability to determine s2 = $\\frac{1}{7} * \\frac{3}{7} * \\frac{3}{11} * \\frac{1}{7} = \\frac{9}{3773}$\n",
        "    \n",
        "    \n",
        "- It is observed that for $\\epsilon = 0.5$ the Probability of s2 to occur is more than for $\\epsilon = 1$. With $\\epsilon = 0.5$ we are adding some Probability to the unkown bigrams but is small, hence it is not affecting the Probability density of the existing bigrams to large extend, but if we assign a larger $\\epsilon$ to smoothing then the Probability density is highly affected as we might assign probability of the unknown bigrams same as the known bigrams, as we add a count by 1.\n",
        "\n",
        "In both the cases we have added the MAP prior to our assumption but for $\\epsilon = 0.5$, we have tried to keep unknown bigram prior as smaller to avoid the incorrect training of our LM."
      ]
    },
    {
      "cell_type": "markdown",
      "metadata": {
        "id": "0jjZwN7YbrMM"
      },
      "source": [
        "## Exercise 2: Good-Turing (3 points)\n",
        "\n",
        "#### 2.1: Estimate of unknown words (0.5 points)\n",
        "\n",
        "Imagine that you're given a split into (1) training data and (2) test data. They come from the same distribution but you're forbidden to make any other splits.\n",
        "\n",
        "- What is the MLE estimate of frequency of unseen words on (2)?\n",
        "- What other, better, strategy could be employed to estimate frequency of unseen words from (1) on (2)?\n",
        "\n",
        "#### 2.2: Data split (0.5 points)\n",
        "\n",
        "- Usually when preparing a new model, we split the dataset to (1) training data, (2) held-out data and (3) test data. Comment briefly on what each part of the dataset is used for and especially on the distinction between (1) and (2).\n",
        "\n",
        "#### 2.3: Good-Turing Formula (1 point)\n",
        "\n",
        "- What is the formula for updated counts for words of frequency $k \\ne 0$?\n",
        "- What is the Good-Turing formula for estimating unseen words, $k=0$?\n",
        "- Given the updated counts $c^*_k$, how does Good-Turing estimate relate to language model smoothing? How do you define the smoothed distribution?\n",
        "- Is there any systematic relationship between the original counts and the new counts? e.g. for large enough $k$, $c^*_k \\ge k$. \n",
        "- Compute and compare the absolute frequencies and Good-Turing estimates for the words `three` and `syringes` in the following text.\n",
        "\n",
        "```\n",
        "thirty - three thousand three hundred and thirty silver syringes which cost three hundred and thirty - two crowns . .\n",
        "```\n",
        "\n",
        "#### 2.4: Frequent buckets (1 point)\n",
        "\n",
        "- In your own words, what is the issue with Good-Turing when estimating the new counts for the very frequent words?\n",
        "- See page 5, paragraph 3 of [Good‐Turing Smoothing Without Tears](http://deanfoster.net/teaching/data_mining/good_turing.pdf) by Gale and Sampson (1995). What solution do they propose?"
      ]
    },
    {
      "cell_type": "markdown",
      "metadata": {
        "id": "tu_i_94dgFpT"
      },
      "source": [
        "## Exercise 2: Good-Turing (Answers)\n",
        "\n",
        "**2.1**\n",
        "\n",
        "- MLE estimate of frequency of unseen words will be, \n",
        "\n",
        "  $ = \\frac{\\text{Count of unseen words}}{\\text{Total words count}} = 0 $\n",
        "\n",
        "- Good turing is the better strategy to estimate the frequency of unseen words.\n",
        "\n",
        "**2.2**\n",
        "\n",
        "- Training data - A training data is the subset of a dataset which is used to create the labguage model and it learns the relationship between the features and target variables. \n",
        "\n",
        "- Test Data - A validation set is another subset of the dataset used to evaluate the final model performance. It is used to check how accurately model identifies relationships between the known outcomes for the target variable and the dataset’s other features.\n",
        "\n",
        "- Held-Out Data - Holdout subset provides a final estimate of the labguage model’s performance after it has been trained and validated.\n",
        "\n",
        "**2.3**\n",
        "\n",
        "- Counts for words of frequency $k \\ne 0$, \\\n",
        "  $ \\frac{(k+1)N_{k+1}}{N_{k}} $, where k = count of count of words\n",
        "\n",
        "- Good-Turing formula for estimating unseen words, \\\n",
        "  $ = \\frac{\\text{count of words with frequency 1}}{\\text{Total words}} $\n",
        "\n",
        "- In Good-Turing, we reduce the total probability of the objects which\n",
        "are seen to be less than one in order to be consistent with estimating non-zero probabilities for unseen objects.\n",
        "\n",
        "- Yes, there is a systematic relationship between original counts and the new counts.\n",
        "\n",
        "- Relative frequency (\"syringes\")  = 1 \\\n",
        "   Relative frequency (\"three\") = 3 \\\n",
        "   Good Turing estimate for \"syringes\",\n",
        "   $C^*_{1} = \\frac{(k+1)N_{2}}{N_{1}} \\\n",
        "    = \\frac {2 * 2}{7} = 0.57\n",
        "   $ \\\n",
        "   Good Turing estimate for \"three\",\n",
        "   $C^*_{3} = \\frac{(k+1)N_{4}}{N_{3}} \\\n",
        "   $\n",
        "\n",
        "**2.4**\n",
        "\n",
        "- When we calculate the new counts for very frequent words then there can be issue where we don’t observe events for every k. For example we may find a word with frequency, k= 2500 and no words for frequency, k = 2501,2502 and again a word for frequency, k = 2503.\n",
        "\n",
        "- Simple Good-Turing is the solution. Replace $N_{n}$ with a fitted function $f(n)$:\n",
        "  $f(n) = a + b * log(n)$"
      ]
    },
    {
      "cell_type": "markdown",
      "metadata": {
        "id": "HztKiKEpbrXt"
      },
      "source": [
        "## Exercise 3: Cross-Validation (4 points)\n",
        "\n",
        "<!-- ### 3.0 Bible studies -->\n",
        "\n",
        "Imagine you are a linguist in the remote future who just rediscovered a book called \"Bible\". To your disappointment the book is obviously incomplete; all the pages between Genesis and the Apocalypse are torn out, maybe by some late Christian cult. Since you don't know the language of the book you want to build a first language model that you can use if you find any of the lost parts. You digitize the book with your state-of-the art portable digitizer, and then load it into one of your Python 10.0 notebooks.\n",
        "\n",
        "**3.1 Baseline (0.5 points)**\n",
        "\n",
        "* The two corpora are in the text files `genesis.txt` and `apocalypsis.txt`. Load them into the notebook, preprocess them by removing all non-alphabetical characters, and then concatenate them into a single corpus. Split the corpus into a train and a test set, with the test set comprising the _last_ 20% of the corpus. You may use your code from previous exercises for this. (0.25 points)\n"
      ]
    },
    {
      "cell_type": "code",
      "execution_count": 6,
      "metadata": {
        "id": "rDVzYp5zKSVC"
      },
      "outputs": [],
      "source": [
        "import sys\n",
        "sys.path.append('/content/data/apocalypsis.txt')\n",
        "sys.path.append('/content/data/genesis.txt')\n",
        "sys.path.append('/content/exercise_3.py')\n",
        "sys.path.append('/content/lm.py')\n",
        "\n",
        "\n",
        "# Load data\n",
        "from importlib import reload\n",
        "import exercise_3\n",
        "exercise_3 = reload(exercise_3)\n",
        "\n",
        "from pathlib import Path\n",
        "\n",
        "genesis_text = Path(\"/content/data/genesis.txt\").open('r').read()\n",
        "apocalypsis_text = Path(\"/content/data/apocalypsis.txt\").open('r').read()\n",
        "\n",
        "# TODO: preprocess\n",
        "genesis_preprocessed = exercise_3.preprocess(genesis_text)\n",
        "apocalypsis_preprocessd = exercise_3.preprocess(apocalypsis_text)\n",
        "\n",
        "# TODO: concatenate\n",
        "corpus = genesis_preprocessed + apocalypsis_preprocessd\n",
        "\n",
        "# TODO: train, test split\n",
        "train, test = exercise_3.train_test_split_data(corpus)"
      ]
    },
    {
      "cell_type": "markdown",
      "metadata": {
        "id": "Uk5YNPJ_Ky0s"
      },
      "source": [
        "* Using your language model class from the previous assignment, estimate a trigram language model on the train set and report perplexity on the test. Use $\\alpha=1$. Does this represent an unbiased estimate of the model's capacity? (0.25 points)"
      ]
    },
    {
      "cell_type": "code",
      "execution_count": 8,
      "metadata": {
        "colab": {
          "base_uri": "https://localhost:8080/"
        },
        "id": "0NsFQMfyPcl1",
        "outputId": "480a3498-2e20-4016-dbd4-ee2bf4fa7f38"
      },
      "outputs": [
        {
          "name": "stdout",
          "output_type": "stream",
          "text": [
            "Perplexity for 3-gram model is  2741.4927621477696\n"
          ]
        }
      ],
      "source": [
        "# TODO: trigram LM\n",
        "from importlib import reload\n",
        "import lm\n",
        "lm = reload(lm)\n",
        "\n",
        "N = 3\n",
        "\n",
        "LM = lm.LanguageModel(train, test, N=N, alpha=1)\n",
        "pp = LM.perplexity(test)\n",
        "\n",
        "print(\"Perplexity for 3-gram model is \", pp)"
      ]
    },
    {
      "cell_type": "markdown",
      "metadata": {
        "id": "z9uIbyb7LoYT"
      },
      "source": [
        "**3.2 Average Perplexity (2 points)**\n",
        "\n",
        "* Since you want to get an unbiased estimate of your model's capacity, you decide to apply k-fold cross-validation on your corpus. To do this, implement the function `k_validation_folds` in `exercise_2.py`. Use it to split your corpus into $k=5$ cross-validation folds, and make sure that the folds are of the same size. (1 point)\n",
        "\n",
        "* Now, estimate a trigram language model on each of the CV folds. You may again use your class from the previous assignment, and average over all perplexity scores. Does the average score differ from the one obtained in 3.2, and why? (1 point)"
      ]
    },
    {
      "cell_type": "code",
      "execution_count": 9,
      "metadata": {
        "colab": {
          "base_uri": "https://localhost:8080/"
        },
        "id": "5d2o5fTiMo13",
        "outputId": "49d65585-580d-4ee9-9cee-1b6d8594024e"
      },
      "outputs": [
        {
          "name": "stdout",
          "output_type": "stream",
          "text": [
            " Average perplexity is  2515.656206814859\n"
          ]
        }
      ],
      "source": [
        "# 5-fold cross-validation\n",
        "cv_folds = exercise_3.k_validation_folds(corpus, k_folds=5)\n",
        "\n",
        "# TODO: estimate 5 trigram LMs!\n",
        "avg_pp = 0.0\n",
        "n = 0\n",
        "for i, data in cv_folds.items():\n",
        "    train, test = data\n",
        "    LM = lm.LanguageModel(train, test, 3, alpha=1)\n",
        "    pp = LM.perplexity(test)\n",
        "    avg_pp += pp\n",
        "    n += 1 \n",
        "\n",
        "avg_pp = avg_pp/n\n",
        "print(\" Average perplexity is \", (avg_pp))"
      ]
    },
    {
      "cell_type": "markdown",
      "metadata": {
        "id": "kRakHZmFNALS"
      },
      "source": [
        "**3.3 Hyperparameter Tuning (1.5 points)**\n",
        "\n",
        "* As you don't know anything about the language the book is written in, you have to find the best hyperparemter $\\alpha$ for your model by a brute-force search (recall how you did this in the last assignment). Since you know from 3.2 that your data is not balanced, you decide to use only the averaged perplexity score (derived from $k=10$ CV folds) for this. Do so by completing the loop in the code cell below. Then, plot the obtained perplexity scores vs. $\\alpha$. You do so by reusing the respective function from Assignment 5. (1 point)\n",
        "\n",
        "(**Hint:** This could take a while.)"
      ]
    },
    {
      "cell_type": "code",
      "execution_count": 10,
      "metadata": {
        "colab": {
          "base_uri": "https://localhost:8080/",
          "height": 279
        },
        "id": "-ada-400O8kO",
        "outputId": "62b8e0d4-c1d2-4aa9-994e-be88bcdd6f40"
      },
      "outputs": [
        {
          "data": {
            "image/png": "[encoded data removed]",
            "text/plain": [
              "<Figure size 432x288 with 1 Axes>"
            ]
          },
          "metadata": {
            "needs_background": "light",
            "tags": []
          },
          "output_type": "display_data"
        }
      ],
      "source": [
        "# hyperparamter tuning, CV\n",
        "alphas = [x*0.01 for x in range(1,101)]\n",
        "pps = []\n",
        "for alpha in alphas:\n",
        "  # TODO: estimate LMs!\n",
        "    n = 0\n",
        "    avg_pp = 0.0\n",
        "    for i, data in cv_folds.items():\n",
        "        train, test = data\n",
        "        LM = lm.LanguageModel(train, test, 3, alpha)\n",
        "        pp = LM.perplexity(test)\n",
        "        avg_pp += pp\n",
        "        n += 1\n",
        "    avg_pp = avg_pp/n\n",
        "    pps.append(avg_pp)\n",
        "\n",
        "# TODO: plot!\n",
        "exercise_3.plot_pp_vs_alpha(pps, alphas, \"trigram\")"
      ]
    },
    {
      "cell_type": "markdown",
      "metadata": {
        "id": "IGq72SKNP-tb"
      },
      "source": [
        "* Repeat the tuning process for unigram and bigram language models. Does your estimate of $\\alpha$ differ? Why? (0.5 points)"
      ]
    },
    {
      "cell_type": "code",
      "execution_count": 11,
      "metadata": {
        "colab": {
          "base_uri": "https://localhost:8080/",
          "height": 541
        },
        "id": "4as-q5FJP9wL",
        "outputId": "8095c099-114f-4d02-e15d-f6217cb56a12"
      },
      "outputs": [
        {
          "data": {
            "image/png": "[encoded data removed]",
            "text/plain": [
              "<Figure size 432x288 with 1 Axes>"
            ]
          },
          "metadata": {
            "needs_background": "light",
            "tags": []
          },
          "output_type": "display_data"
        },
        {
          "data": {
            "image/png": "[encoded data removed]",
            "text/plain": [
              "<Figure size 432x288 with 1 Axes>"
            ]
          },
          "metadata": {
            "needs_background": "light",
            "tags": []
          },
          "output_type": "display_data"
        }
      ],
      "source": [
        "# hyperparamter tuning, bigram + trigram\n",
        "\n",
        "uni_pps = []\n",
        "bi_pps = []\n",
        "\n",
        "for alpha in alphas:\n",
        "  # TODO: estimate LMs!\n",
        "    n = 0\n",
        "    avg_pp = 0.0\n",
        "    uni_pp = 0.0\n",
        "    bi_pp = 0.0\n",
        "    for i, data in cv_folds.items():\n",
        "        train, test = data\n",
        "        \n",
        "        LM1 = lm.LanguageModel(train, test, 1, alpha)\n",
        "        uni_pp += LM1.perplexity(test)\n",
        "        \n",
        "        LM2 = lm.LanguageModel(train, test, 2, alpha)\n",
        "        bi_pp += LM2.perplexity(test)\n",
        "        \n",
        "        #avg_pp += pp\n",
        "        n += 1\n",
        "    uni_pp = uni_pp / n\n",
        "    bi_pp = bi_pp / n\n",
        "    \n",
        "    uni_pps.append(uni_pp)\n",
        "    bi_pps.append(bi_pp)\n",
        "\n",
        "# TODO: plot!\n",
        "exercise_3.plot_pp_vs_alpha(uni_pps, alphas, \"unigram\")\n",
        "exercise_3.plot_pp_vs_alpha(bi_pps, alphas, \"bigram\")"
      ]
    },
    {
      "cell_type": "markdown",
      "metadata": {
        "id": "VB4SZurb1mhE"
      },
      "source": [
        "## Exercise 3: Cross-Validation (Answers)\n",
        "\n",
        "**3.1**\n",
        "\n",
        "No, this does not represent an unbiased estimate of the model's capacity.\n",
        "\n",
        "**3.2**\n",
        "\n",
        "Yes, the average score differs because we are getting the unbiased estimates of the model's capacity. Using K-validation fold with different test and train set may contribute to more unbiased value and different form previous value.\n",
        "\n",
        "**3.3**\n",
        "\n",
        "Yes, estimate of $\\alpha$ differ because we are tuning different language models."
      ]
    }
  ],
  "metadata": {
    "colab": {
      "collapsed_sections": [],
      "name": "AnushkaKothari_7015914_AkhilJuneja_7015523 (3).ipynb",
      "provenance": [],
      "toc_visible": true
    },
    "kernelspec": {
      "display_name": "Python 3",
      "language": "python",
      "name": "python3"
    },
    "language_info": {
      "codemirror_mode": {
        "name": "ipython",
        "version": 3
      },
      "file_extension": ".py",
      "mimetype": "text/x-python",
      "name": "python",
      "nbconvert_exporter": "python",
      "pygments_lexer": "ipython3",
      "version": "3.7.6"
    }
  },
  "nbformat": 4,
  "nbformat_minor": 0
}

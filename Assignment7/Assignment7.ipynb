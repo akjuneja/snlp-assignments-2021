{
  "cells": [
    {
      "cell_type": "markdown",
      "metadata": {
        "id": "feU_fawmgoPp"
      },
      "source": [
        "## Exercise 1: Count-Trees (5 points)\n",
        "\n",
        "Your task is to implement a count-tree with variable maximum history. It is a memory-efficient way to store n-gram counts which can also be used to create an intuitive back-off after the tree is pruned.\n",
        "\n",
        "The tree object should support the following four operations:\n",
        "- Increment a count of a specific n-gram (even if not present)\n",
        "- Retrieve counts given the history (variable length)\n",
        "- Retrieve the conditional probability of a word given the history. (Proportion count between branches)\n",
        "- Pruning all nodes with counts less or equal to $k$\n",
        "\n",
        "**1.1 (2 points)**\n",
        "\n",
        "Make sure your implementation is correct by passing the asserts in the first code cell.\n",
        "\n",
        "**1.2 (1 point)**\n",
        "\n",
        "The next cell will incrementally add a quad-gram to the tree. Plot the perplexity of trigram language model (induced by this count tree) against the number of added n-grams. Comment on the curve shape. Smooth this language model with a zerogram distribution using a linear combination ($0.75\\times p_4 + 0.25\\times p_0$).\n",
        "\n",
        "**1.3 (1 point)**\n",
        "\n",
        "For the given range of thresholds, prune your tree and see how the threshold affects the performance. Plot the results (perplexity vs. threshold).\n",
        "\n",
        "**1.4 (1 point)**\n",
        "\n",
        "1. If you first prune with threshold $k_1$ and get tree $t_1$, then prune with $k_2$ and get $t_2$ what will be the relationship between $t_1$ and $t_2$ if $k_1 \\ge k_2$? (0.25 points)\n",
        "2. What is the memory benefit of count trees, in comparison to storing the counts as a dictionary `{n-gram:freq}`? (0.25 points)\n",
        "3. If we pruned the tree so that only the first level is preserved, what distribution could we model with this tree? (0.25 points)\n",
        "4. Pruning the count tree is said to be a dynamic way of smoothing the language model. Elaborate on how this smoothing happens. (0.25 points)\n",
        "\n",
        "**Answers 1.4**\n",
        "\n",
        "1. For tree $t1$ we will have lesser nodes compared to $t2$. Now n-grams sharing same history(present in the tree) but n-gram not present will be provided a pseudo count which would act as smoothing.\n",
        "\n",
        "2. Count tree is memory effecient. With count trees, same history is present only once in memory with its corresponding count, but for dictionary, same history will be present all the times n-gram occurs.\n",
        "\n",
        "3. When we will have have only one layer, then probability distribution becomes like this : $P(w_1,..w_n / w_1,...w_{n-1}) = C(w_n) / C(w_n - 1)$ where $C$ is the count function. Further we see it is dependent only on the count of the last two tokens of the n-gram. \n",
        "\n",
        "4. Yes, it is a dynamic way of smoothing."
      ]
    },
    {
      "cell_type": "code",
      "execution_count": 32,
      "metadata": {
        "id": "_zKzeBzZLksw"
      },
      "outputs": [],
      "source": [
        "from importlib import reload\n",
        "import exercise_1\n",
        "exercise_1 = reload(exercise_1)\n",
        "\n",
        "import sys\n",
        "sys.path.append('/content/data/alice_in_wonderland.txt')\n",
        "sys.path.append('/content/exercise_1.py')\n",
        "\n",
        "tree = exercise_1.CountTree(n=4)\n",
        "\n",
        "assert tree.get(\"\") == 0\n",
        "tree.add(\"ABCE\")\n",
        "tree.add(\"ABCD\")\n",
        "tree.add(\"ABCD\")\n",
        "tree.add(\"QBCD\")\n",
        "tree.add(\"QQCD\")\n",
        "tree.add(\"BCDA\")\n",
        "tree.add(\"1234\")\n",
        "tree.add(\"1234\")\n",
        "tree.add(\"1234\")\n",
        "tree.add(\"1234\")\n",
        "tree.add(\"1234\")\n",
        "tree.add(\"5634\")\n",
        "assert tree.get(\"ABCD\") == 2\n",
        "assert tree.get(\"ABCX\") == 0\n",
        "assert tree.get(\"BCD\") == 3\n",
        "assert tree.get(\"D\") == 4\n",
        "assert tree.get(\"CD\") == 4\n",
        "assert tree.get(\"1234\") == 5\n",
        "assert tree.get(\"5634\") == 1\n",
        "tree.prune(4)\n",
        "assert tree.get(\"ABCD\") == 4\n",
        "assert tree.get(\"XXCD\") == 4\n",
        "assert tree.get(\"D\") == 4\n",
        "assert tree.get(\"1234\") == 5\n",
        "assert tree.get(\"5634\") == 1"
      ]
    },
    {
      "cell_type": "code",
      "execution_count": 33,
      "metadata": {
        "colab": {
          "base_uri": "https://localhost:8080/",
          "height": 281
        },
        "id": "mZQ7BgD3Xr2j",
        "outputId": "512b72dc-323b-4597-cb7b-65aeafc5a60d"
      },
      "outputs": [
        {
          "data": {
            "text/plain": [
              "[<matplotlib.lines.Line2D at 0x7fa9bdba70d0>]"
            ]
          },
          "execution_count": 33,
          "metadata": {
            "tags": []
          },
          "output_type": "execute_result"
        },
        {
          "data": {
            "image/png": "[encoded data removed]",
            "text/plain": [
              "<Figure size 432x288 with 1 Axes>"
            ]
          },
          "metadata": {
            "needs_background": "light",
            "tags": []
          },
          "output_type": "display_data"
        }
      ],
      "source": [
        "import matplotlib.pyplot as plt\n",
        "\n",
        "plot_x = []\n",
        "plot_y = []\n",
        "\n",
        "ngrams = []\n",
        "tree = exercise_1.CountTree(n=4)\n",
        "with open(\"/content/data/alice_in_wonderland.txt\", \"r\") as f:\n",
        "  tokens = f.read().lower().split()\n",
        "  for i in range(len(tokens)-4):\n",
        "    ngrams.append(tokens[i:i+4])\n",
        "\n",
        "vocab = set(tokens)\n",
        "for i,ngram in enumerate(ngrams):\n",
        "  tree.add(ngram)\n",
        "  if i % 1000 == 0:\n",
        "    plot_x.append(i)\n",
        "    plot_y.append(tree.perplexity(ngrams, vocab))\n",
        "\n",
        "plt.plot(plot_x, plot_y)"
      ]
    },
    {
      "cell_type": "code",
      "execution_count": 34,
      "metadata": {
        "colab": {
          "base_uri": "https://localhost:8080/",
          "height": 335
        },
        "id": "QYPY_Whbooor",
        "outputId": "f0a5fcb5-77f0-409f-ec43-6f70c87b6e70"
      },
      "outputs": [
        {
          "name": "stdout",
          "output_type": "stream",
          "text": [
            "[1, 2, 3, 4, 5, 10, 25, 50, 75, 100]\n",
            "[1.086053479519519, 1.0263567403995828, 1.0119030269366438, 1.0030047011148526, 1.0003161292397378, 0.9976643901733325, 1.0014839387087633, 1.0021067662480476, 1.0047578548709355, 1.0035994553932723]\n"
          ]
        },
        {
          "data": {
            "text/plain": [
              "[<matplotlib.lines.Line2D at 0x7fa9bd8b2710>]"
            ]
          },
          "execution_count": 34,
          "metadata": {
            "tags": []
          },
          "output_type": "execute_result"
        },
        {
          "data": {
            "image/png": "[encoded data removed]",
            "text/plain": [
              "<Figure size 432x288 with 1 Axes>"
            ]
          },
          "metadata": {
            "needs_background": "light",
            "tags": []
          },
          "output_type": "display_data"
        }
      ],
      "source": [
        "plot_x = []\n",
        "plot_y = []\n",
        "\n",
        "for threshold in [1,2,3,4,5,10,25,50,75,100]:\n",
        "  tree.prune(threshold)\n",
        "  plot_x.append(threshold)\n",
        "  plot_y.append(tree.perplexity(ngrams, vocab))\n",
        "\n",
        "print(plot_x)\n",
        "print(plot_y)\n",
        "\n",
        "plt.plot(plot_x, plot_y)"
      ]
    },
    {
      "cell_type": "markdown",
      "metadata": {
        "id": "uC_TytVNlgtr"
      },
      "source": [
        "## Exercise 2: Kneser-Ney Smoothing (5 points)\n",
        "\n",
        "This exercise aims to provide a basic understanding of Kneser-Ney Smoothing. Kneser-Ney Smoothing makes use of *continuation counts* of words for lower order n-grams, given as\n",
        "\n",
        "\\begin{equation}\n",
        "C_{KN} = \n",
        "\\begin{cases}\n",
        "\\text{count}(\\bullet) & \\text{for highest order} \\\\\n",
        "\\text{continuationcount}(\\bullet) & \\text{for lower orders}\n",
        "\\end{cases}\n",
        "\\end{equation}\n",
        "\n",
        "\n",
        "For a trigram distribution, Kneser-Ney Smoothing is implemented using the following equations:\n",
        "\n",
        "$$P_{KN}(w_3|w_1, w_2) = \\frac{\\max\\{N(w_1 w_2 w_3)-d,0\\}}{N(w_1 w_2)} + \\lambda(w_1, w_2)P_{KN}(w_3|w_2)$$\n",
        "\n",
        "$$P_{KN}(w_3|w_2) = \\frac{\\max\\{N_{+}(\\bullet w_2 w_3)-d,0\\}}{N_{+}(\\bullet w_2 \\bullet)} + \\lambda(w_2)P_{KN}(w_3)$$\n",
        "\n",
        "\\begin{equation}\n",
        "P_{KN}(w_3) = \\begin{cases}\n",
        "\\frac{N_{+}(\\bullet w_3)}{N_{+}(\\bullet \\bullet)} & \\text{if $w_3 \\in$ V} \\\\\n",
        "\\frac{1}{V} & \\text{otherwise}\n",
        "\\end{cases}\n",
        "\\end{equation}\n",
        "\n",
        "$\\lambda$ is used to normalise the discounted probability mass and is given by\n",
        "\n",
        "$$\\lambda(w_1, w_2) = \\frac{d}{N(w_1 w_2)} \\cdot N_{+}(w_1 w_2 \\bullet)$$\n",
        "\n",
        "$$\\lambda(w_2) = \\frac{d}{N(w_2)} \\cdot N_{+}(w_2 \\bullet)$$\n",
        "\n",
        "**2.1 (4.5 points)**\n",
        "\n",
        "* Your first task is to understand what these terms represent and fill it in the table below (4-5 words each).\n",
        "\n",
        "* Create a trigram-level model on the given text, `alice_in_wonderland.txt`. Write your implementation in the file `exercise_2.py`. Preprocess the text by punctuation removal, lowercasing, and tokenisation. There is no need to split the data into train and test sets. (0.5 points)"
      ]
    },
    {
      "cell_type": "code",
      "execution_count": 46,
      "metadata": {
        "id": "vNH_zLxM5amO"
      },
      "outputs": [],
      "source": [
        "import sys\n",
        "sys.path.append('/content/data/alice_in_wonderland.txt')\n",
        "sys.path.append('/content/exercise_2.py')\n",
        "\n",
        "from importlib import reload\n",
        "import exercise_2\n",
        "exercise_2 = reload(exercise_2)\n",
        "\n",
        "file = open(\"/content/data/alice_in_wonderland.txt\", \"r\")\n",
        "text = file.read()\n",
        "\n",
        "# TODO: Preprocess text\n",
        "tokens = exercise_2.preprocess(text)"
      ]
    },
    {
      "cell_type": "markdown",
      "metadata": {
        "id": "Vw1xFixt2rUa"
      },
      "source": [
        "* \n",
        "Write a simple class `KneserNey` in `exercise_2` that calculates the different parameters required for finding the trigram conditional probability. You may modify the function signature and add other functionality as required. <br/>\n",
        "Now, consider the trigrams `\"alice said nothing\"` and `\"alice said nichts\"`. For these trigrams, estimate the values mentioned in the table given below and fill in the obtained results. The discounting parameter *d* = 0.75. (3 points)"
      ]
    },
    {
      "cell_type": "code",
      "execution_count": 47,
      "metadata": {
        "colab": {
          "base_uri": "https://localhost:8080/"
        },
        "id": "Ja0jVjrh2zu8",
        "outputId": "f2b04b85-475b-4653-b2cf-8405aedf4728"
      },
      "outputs": [
        {
          "name": "stdout",
          "output_type": "stream",
          "text": [
            " Params for t1 \n",
            " N+(∙∙) =  14716\n",
            " N+(∙w3) =  23\n",
            " N+(∙w2∙) =  319\n",
            " N+(∙w2w3) =  5\n",
            " N(w2) =  462\n",
            " N+(w2∙) =  56\n",
            " N(w1w2) =  11\n",
            " N(w1w2w3) =  2\n",
            " N+(w1w2∙) =  11\n",
            " λ(w2) =  0.09090909090909091\n",
            " λ(w1w2) =  0.75\n",
            " \n",
            " Calculating the probabilities:\n",
            " PKN(w3) =  0.0003633720930232558\n",
            " PKN(w3|w2) =  0.013355917839177663\n",
            " PKN(w3|w1,w2) =  0.12365330201574688\n",
            "\n",
            " Params for t2 \n",
            " N+(∙∙) =  14716\n",
            " N+(∙w3) =  0\n",
            " N+(∙w2∙) =  319\n",
            " N+(∙w2w3) =  0\n",
            " N(w2) =  462\n",
            " N+(w2∙) =  56\n",
            " N(w1w2) =  11\n",
            " N(w1w2w3) =  0\n",
            " N+(w1w2∙) =  11\n",
            " λ(w2) =  0.09090909090909091\n",
            " λ(w1w2) =  0.75\n",
            " \n",
            " Calculating the probabilities:\n",
            " PKN(w3) =  0.0003633720930232558\n",
            " PKN(w3|w2) =  3.30338266384778e-05\n",
            " PKN(w3|w1,w2) =  2.4775369978858354e-05\n"
          ]
        }
      ],
      "source": [
        "KN_model = exercise_2.KneserNey(tokens, d=0.75, N=3)\n",
        "\n",
        "t1 = \"alice said nothing\"\n",
        "t2 = \"alice said nichts\"\n",
        "\n",
        "# TODO\n",
        "# Get the required parameters\n",
        "print(\" Params for t1 \")\n",
        "KN_model.get_params(t1)\n",
        "\n",
        "print(\"\\n Params for t2 \")\n",
        "KN_model.get_params(t2)"
      ]
    },
    {
      "cell_type": "markdown",
      "metadata": {
        "id": "f4WFNsNc5YTq"
      },
      "source": [
        "| Term in Kneser-Ney |   Value t1  | Value t2 | Description | \n",
        "|---|---|---| --- |\n",
        "|$N(w_1w_2w_3)$| 2 | 0 | Total frequency of word $(w_1 w_2 w_3)$ |\n",
        "|$N(w_1 w_2)$| 11 | 11 | Total frequency of word $(w_1 w_2)$ |\n",
        "|$N_{+}( \\bullet w_2 w_3)$| 5 | 0 | Number of types of words preceding $w_2 w_3$ |\n",
        "|$N_{+}( \\bullet w_2 \\bullet)$| 319 | 319 | Number of types of words preceding  and following $w_2$ |\n",
        "|$N_{+}( \\bullet w_3)$| 23 | 0 | Number of types of words preceding $w_3$  |\n",
        "|$N_{+}( \\bullet \\bullet)$| 14716 | 14716 | Number of types of bigram words |\n",
        "|$N_{+}(w_1 w_2 \\bullet)$| 11 | 11 | Number of types of words following $w_1 w_2$ |\n",
        "|$N_{+}(w_2 \\bullet)$| 56 | 56 | Number of types of words following $w_2$ |\n",
        "|$\\lambda(w_1 w_2)$| 0.75 | 0.75 | Normalized discount paramter |\n",
        "|$\\lambda(w_2)$| 0.09090909090909091 | 0.09090909090909091 | Normalized discount paramter |\n",
        "\n",
        "* Using the values obtained above, manually calculate $P_{KN}(w_3)$, $P_{KN}(w_3|w_2)$, and $P_{KN}(w_3|w_1, w_2)$ for the given trigrams. (1 point)\n",
        "\n",
        "**Answer**\n",
        "\n",
        "*Probabilities for t1:*\n",
        "\n",
        "$PKN(w3) =  0.0003633720930232558$ \\\n",
        "$PKN(w3|w2) =  0.013355917839177663$ \\\n",
        "$PKN(w3|w1,w2) =  0.12365330201574688$ \\\n",
        "\n",
        "*Probabilities for t2:*\n",
        "\n",
        "$PKN(w3) =  0.0003633720930232558$ \\\n",
        "$PKN(w3|w2) =  3.30338266384778e-05$ \\\n",
        "$PKN(w3|w1,w2) =  2.4775369978858354e-05$ \\\n",
        "\n",
        "\n",
        "**2.2 (0.5 points)**\n",
        "\n",
        "Take a look at this [video](https://www.youtube.com/watch?v=cbAxvpBFyNU) on Kneser-Ney smoothing by Dan Jurafksy. Make sure to undestand his *San Francisco* example. <br/>\n",
        "How will Kneser-Ney Smoothing handle the following bigrams (answer in 3-4 sentences)? \n",
        "\n",
        "* Abu Dhabi\n",
        "\n",
        "* Game Over\n",
        "\n",
        "\n",
        "**Answer 2.2**\n",
        "\n",
        "Kneser-Ney Smoothing is better estimate for probabilties of low order n-grams. Given bigrams \"Abu Dhabi\" and \"Game Over\" can appear several times in the training corpus and hence the frequency of unigrams \"Dhabi\" and \"Over\" will also be high. Relying on only the frequency of \n",
        "unigram to predict the frequency of n-gram can give distorted results. Kneser-Ney smoothing rectify this by considering the frequency of bigrams completed by the given unigram or the number of types of word preceding the unigram."
      ]
    },
    {
      "cell_type": "markdown",
      "metadata": {
        "id": "pq7Yc1CmKdLi"
      },
      "source": [
        "## Bonus (2 points)\n",
        "\n",
        "For each of the smoothing techniques below,\n",
        "\n",
        "1. Laplace/add-1 smoothing (0.3 points)\n",
        "2. Add-$\\alpha$ smoothing (0.3 points)\n",
        "3. Linear interpolation (0.3 points)\n",
        "4. Absolute discounting (0.3 points)\n",
        "5. Good-Turing (0.3 points)\n",
        "6. Kneser-Ney smoothing (0.3 point)\n",
        "\n",
        "* Give the intuition behind it\n",
        "* State at least one drawback and\n",
        "* Explain how the ensuing smoothing technique accounts for this drawback.\n",
        "\n",
        "You can do so in continuous text or in bullet points. Write 3-5 sentences for each technique. For Kneser-Ney smoothing, you should suggest *and explain* an improved version from the literature, e.g. [here](http://nrs.harvard.edu/urn-3:HUL.InstRepos:25104739) (this tutorial may also be helpful for the rest of the exercise).\n",
        "\n",
        "Please note that while the points for this bonus exercise are the immediate motivation, your self-made comparison will be highly beneficial for the exam."
      ]
    },
    {
      "cell_type": "markdown",
      "metadata": {
        "id": "-KIBJ8xslBlF"
      },
      "source": [
        "## Bonus : Answers\n",
        "\n",
        "For each of the smoothing techniques below,\n",
        "\n",
        "1. Laplace/add-1 smoothing\n",
        "\n",
        "- Intuition - To ensure our posterior probabilities are never zero, for which we assume every seen or unseen token occurs once more than it did in the training set.\n",
        "- $ P(w_i) = \\_frac{C(w_i + 1)}{N + V} $ where $N$ is number of Tokens in Training Set and $V$ is the Vocabulary Size\n",
        "- Drawback: Using $\\alpha = 1$, we are assigning too much Probability mass to the Unseen tokens\n",
        "- Enuring Smoothing Technique causes the LM to assume the frequency on the unseen words to be more than expected, hence higher probability to assign these unseen token as the next probable word. $w_1$"
      ]
    },
    {
      "cell_type": "markdown",
      "metadata": {
        "id": "CsIFcpt5lmUc"
      },
      "source": [
        "2. Add-$\\alpha$ smoothing \n",
        "    - Intuition: To ensure our posterior probabilities are never zero, for which we assume every seen or unseen token occurs slightly more time than zero. Generally value of $\\alpha$ is in the range $0 < \\alpha < 1$. This is done to avoid assigning too much Probability mass to unseen tokens.\n",
        "    - $P(w_i) = \\frac{C(w_i + \\alpha)}{N + V*\\alpha}$\n",
        "    - Drawback: Using $0 <\\alpha < 1$, we are assigning more Probability to the unseen tokens as compared to the original\n",
        "    - Enuring Smoothing Technique causes the LM to assume the frequency on the unseen words to be more than expected, hence higher probability to assign these unseen token as the next probable word."
      ]
    },
    {
      "cell_type": "markdown",
      "metadata": {
        "id": "B4lpRuXTlp4w"
      },
      "source": [
        "3. Good-Turing\n",
        "    - Intuition: Redistributing the probability mass of $n$-grams that occur $r + 1$ times in the training data to the $n$-grams that occur $r$ times.\n",
        "    - Adjust Counting    \n",
        "    \\begin{equation}\n",
        "    N^*(w,h) = \\begin{cases}\n",
        "    [N(w,h) + 1]\\frac{n_{N(w,h)+1}}{n_{N(w,h)}} & \\text{for $N(w,h) <= 5$} \\\\\n",
        "    N(w,h) & \\text{otherwise}\n",
        "    \\end{cases}\n",
        "    \\end{equation}\n",
        "    - $P(w|h) = \\frac{N^*(w,h)}{N(h)} + \\lambda(h)\\beta(w|h)$\n",
        "    - Drawback: If $n_{r+1} = 0$, then it causes holes in the count.\n",
        "    - Enuring Smoothing Technique causes amplification of this noise in our training corpus"
      ]
    },
    {
      "cell_type": "markdown",
      "metadata": {
        "id": "IrIxhJ_Bls0B"
      },
      "source": [
        "4. Linear interpolation\n",
        "    - Intuition: To solve the sparseness in the above models is by mixing the trigram model with the bigram and unigram models\n",
        "    - $P_li(w_n|w_{n-2},w_{n-1}) = \\lambda_1 P_1(w_n) + \\lambda_2 P_2(w_n|w_{n-1}) +\\lambda_3 P_3(w_n|w_{n-1},w_{n-2})$\n",
        "    \n",
        "    where $0 <= \\lambda_i <= 1$ and $\\sum_i \\lambda_i = 1$ \n",
        "    - Drawback: Tuning all the $\\lambda$'s make it very hard to implement this model\n",
        "    - Enuring Smoothing Technique causes assuming the closest proximity value for $\\lambda$ then calculating the precised values."
      ]
    },
    {
      "cell_type": "markdown",
      "metadata": {
        "id": "Li4c0FB0lvoo"
      },
      "source": [
        "5. Absolute discounting\n",
        "    - Intuition: Here rather than multiplying by higher order probability with $\\lambda$, we subtract $\\delta$ from each non zero count\n",
        "    \\begin{equation}\n",
        "    P_{abs}(w_1,...,w_n) = \\begin{cases}\n",
        "    \\frac{r-\\delta}{N} & \\text{if $r > 0$} \\\\\n",
        "    \\frac{(B-N_0)\\delta}{N_0N} & \\text{otherwise}\n",
        "    \\end{cases}\n",
        "    \\end{equation}\n",
        "    where B is the number of bins\n",
        "    - Drawback: it does not take into account for those tokens which are mostly seen as bigram, such as \"New York\"\n",
        "    - Enuring Smoothing Technique causes we will have to feed such tokens in the Corpus as one word, else this exception is not taken into account during approximation, we will have to take lower order backing off into account during approximation "
      ]
    },
    {
      "cell_type": "markdown",
      "metadata": {
        "id": "qFBzGLEGlyW4"
      },
      "source": [
        "6. Kneser-Ney smoothing\n",
        "    - Intuition: Here we consider the words with their context an extention to absolute discounting and find the probability distribution as per the common history of the word. For Example \"San Francisco\", using Absolute Discounting “Francisco” will get a higher unigram probability irrespective of the history, but using Kneser-Ney smoothing will give a lower unigram Probability to “Francisco”, as it is more common that it occurs after “San”.\n",
        "    - Modified Kneser-Ney Smoothing: Here rather than using a single discount for all non-zero Counts, this method uses 3 different Discount Parameters $D_1, D_2 and D_3+$, which are applied to one, two and three or more counts to n-gram at each level probability.\n",
        "    - $P_{KN}(w_i|w^{i-1}_{i-n+1}) = \\frac{c(w^i_{i-n+1}) - D(c(w^i_{i-n+1}))}{\\sum_{wi}c(w^i_{i-n+1})} \\gamma(w^i_{i-n+1})P_{KN}(w^i|w^{i-1}_{i-n+2})$\n",
        "      \n",
        "    \\begin{equation}\n",
        "    D(c) = \\begin{cases}\n",
        "    0 & \\text{if $c = 0$} \\\\\n",
        "    D_1 & \\text{if $c = 1$} \\\\\n",
        "    D_2 & \\text{if $c = 2$} \\\\\n",
        "    D_3 & \\text{if $c >= 3$} \n",
        "    \\end{cases}\n",
        "    \\end{equation}\n",
        "    - The modified Kneser Ney Smoothing performs better than the standard in bigram and trigram corpus and over all training set size. And it has similar performance for other corpora. The performance of both is very close, but for larger training set Modified version consistently outperforms the standard version."
      ]
    }
  ],
  "metadata": {
    "colab": {
      "collapsed_sections": [],
      "name": "Assignment 7.ipynb",
      "provenance": []
    },
    "kernelspec": {
      "display_name": "Python 3",
      "language": "python",
      "name": "python3"
    },
    "language_info": {
      "codemirror_mode": {
        "name": "ipython",
        "version": 3
      },
      "file_extension": ".py",
      "mimetype": "text/x-python",
      "name": "python",
      "nbconvert_exporter": "python",
      "pygments_lexer": "ipython3",
      "version": "3.8.5"
    }
  },
  "nbformat": 4,
  "nbformat_minor": 0
}
